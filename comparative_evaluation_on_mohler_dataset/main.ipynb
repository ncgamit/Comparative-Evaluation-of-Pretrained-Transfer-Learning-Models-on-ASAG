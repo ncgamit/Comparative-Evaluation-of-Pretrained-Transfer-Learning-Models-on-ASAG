{
 "cells": [
  {
   "cell_type": "code",
   "execution_count": null,
   "id": "d3a0a493-3a9e-41a0-b932-1d04d3ec5d88",
   "metadata": {},
   "outputs": [],
   "source": [
    "!python gpt_main.py"
   ]
  },
  {
   "cell_type": "code",
   "execution_count": null,
   "id": "8e341c6c-bfa3-48f9-af9b-48fb28eb26c2",
   "metadata": {},
   "outputs": [],
   "source": [
    "!pip install nltk"
   ]
  },
  {
   "cell_type": "code",
   "execution_count": null,
   "id": "a7b2b22d-4b69-41b6-a5c6-edac22b182f0",
   "metadata": {},
   "outputs": [],
   "source": [
    "pip install editdistance"
   ]
  },
  {
   "cell_type": "code",
   "execution_count": null,
   "id": "463dc613-c7f0-40b2-b75c-f57d673ed29f",
   "metadata": {},
   "outputs": [],
   "source": [
    "pip install --upgrade editdistance"
   ]
  },
  {
   "cell_type": "code",
   "execution_count": null,
   "id": "ae850508-9e18-414e-b991-7a4faf222719",
   "metadata": {},
   "outputs": [],
   "source": [
    "!pip install allennlp"
   ]
  }
 ],
 "metadata": {
  "kernelspec": {
   "display_name": "Python 3 (ipykernel)",
   "language": "python",
   "name": "python3"
  },
  "language_info": {
   "codemirror_mode": {
    "name": "ipython",
    "version": 3
   },
   "file_extension": ".py",
   "mimetype": "text/x-python",
   "name": "python",
   "nbconvert_exporter": "python",
   "pygments_lexer": "ipython3",
   "version": "3.12.1"
  }
 },
 "nbformat": 4,
 "nbformat_minor": 5
}
